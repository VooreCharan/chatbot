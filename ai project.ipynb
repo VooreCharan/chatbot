{
 "cells": [
  {
   "cell_type": "code",
   "execution_count": 2,
   "id": "ab37ec1c-4eff-4a21-a13a-9027dc55c45f",
   "metadata": {},
   "outputs": [],
   "source": [
    "import google.generativeai as ai\n",
    "\n",
    "f = open(\"api key.txt\")\n",
    "\n",
    "key = f.read()\n",
    "\n",
    "ai.configure(api_key=key)\n",
    "\n",
    "model = ai.GenerativeModel(model_name=\"gemini-1.5-flash\")"
   ]
  },
  {
   "cell_type": "code",
   "execution_count": 4,
   "id": "a320c7dc-1c76-497f-9c7a-85ca66be4ee8",
   "metadata": {},
   "outputs": [
    {
     "name": "stdin",
     "output_type": "stream",
     "text": [
      "Enter your query can you spend some time with me\n"
     ]
    },
    {
     "name": "stdout",
     "output_type": "stream",
     "text": [
      "\n",
      "I'd love to!  How can I spend some time with you?  To make it most enjoyable, tell me:\n",
      "\n",
      "* **What are you interested in talking about?**  We could discuss current events, books, movies, hobbies, or anything else that's on your mind.\n",
      "* **What kind of interaction are you looking for?**  Do you want a casual chat, help with a task, or something else?\n",
      "* **How much time do you have?**  We can chat for a few minutes or longer, depending on your availability.\n",
      "\n",
      "Let's have a great time!  Tell me what you'd like to do.\n",
      "\n"
     ]
    }
   ],
   "source": [
    "user_prompt = input(\"Enter your query\")\n",
    "\n",
    "response = model.generate_content(user_prompt)\n",
    "print()\n",
    "print(response.text)"
   ]
  },
  {
   "cell_type": "code",
   "execution_count": 5,
   "id": "107c1a79-e3a2-4b7c-a8cc-6a0748dbbbff",
   "metadata": {},
   "outputs": [
    {
     "name": "stdin",
     "output_type": "stream",
     "text": [
      "Enter your query can you tell me about data science\n"
     ]
    },
    {
     "name": "stdout",
     "output_type": "stream",
     "text": [
      "\n",
      "Data science is an interdisciplinary field that uses scientific methods, processes, algorithms, and systems to extract knowledge and insights from structured and unstructured data.  It's a blend of various fields, including:\n",
      "\n",
      "* **Mathematics and Statistics:**  This forms the foundation, providing the tools for data analysis, modeling, and inference.  Techniques like regression, hypothesis testing, and probability distributions are crucial.\n",
      "\n",
      "* **Computer Science:** This provides the computational power and algorithms needed to process and analyze large datasets.  Programming languages like Python and R, along with databases and cloud computing, are essential.\n",
      "\n",
      "* **Domain Expertise:**  Understanding the context of the data is critical.  A data scientist working with medical data needs a different understanding than one working with financial data.  This expertise helps in formulating the right questions, interpreting results, and drawing meaningful conclusions.\n",
      "\n",
      "**What Data Scientists Do:**\n",
      "\n",
      "Data scientists typically perform a variety of tasks, including:\n",
      "\n",
      "* **Data Collection and Cleaning:** Gathering data from various sources (databases, APIs, web scraping, etc.) and preparing it for analysis. This often involves handling missing values, outliers, and inconsistencies.\n",
      "\n",
      "* **Exploratory Data Analysis (EDA):**  Summarizing and visualizing data to understand its characteristics and identify patterns. This involves using descriptive statistics, data visualization techniques, and other methods to gain initial insights.\n",
      "\n",
      "* **Feature Engineering:** Transforming raw data into features that can be used in machine learning models. This is a crucial step as it directly impacts model performance.\n",
      "\n",
      "* **Model Building and Selection:** Choosing and building appropriate machine learning models to predict outcomes, classify data, or discover patterns. This involves selecting algorithms, training models, and evaluating their performance.\n",
      "\n",
      "* **Model Deployment and Monitoring:** Deploying models into production environments and monitoring their performance over time. This ensures the models continue to provide accurate predictions and are updated as needed.\n",
      "\n",
      "* **Communication and Visualization:**  Presenting findings and insights to stakeholders in a clear and concise manner.  This often involves creating visualizations and reports that are easy to understand.\n",
      "\n",
      "\n",
      "**Types of Data Science Tasks:**\n",
      "\n",
      "Data science encompasses a wide range of tasks, including:\n",
      "\n",
      "* **Predictive Modeling:** Predicting future outcomes based on historical data (e.g., predicting customer churn, stock prices).\n",
      "* **Classification:** Assigning data points to predefined categories (e.g., spam detection, image recognition).\n",
      "* **Clustering:** Grouping similar data points together (e.g., customer segmentation, anomaly detection).\n",
      "* **Recommendation Systems:** Suggesting items or content to users based on their preferences (e.g., movie recommendations, product recommendations).\n",
      "* **Natural Language Processing (NLP):** Analyzing and understanding human language (e.g., sentiment analysis, machine translation).\n",
      "* **Computer Vision:** Enabling computers to \"see\" and interpret images and videos (e.g., object detection, facial recognition).\n",
      "\n",
      "\n",
      "**In short:** Data science is about turning data into actionable insights.  It's a powerful tool that's transforming many industries, enabling better decision-making, improving efficiency, and creating new opportunities.\n",
      "\n"
     ]
    }
   ],
   "source": [
    "user_prompt = input(\"Enter your query\")\n",
    "\n",
    "response = model.generate_content(user_prompt)\n",
    "print()\n",
    "print(response.text)"
   ]
  },
  {
   "cell_type": "code",
   "execution_count": null,
   "id": "b46153fe-3edf-4393-8b0d-0c848c0fd1ae",
   "metadata": {},
   "outputs": [],
   "source": []
  }
 ],
 "metadata": {
  "kernelspec": {
   "display_name": "Python 3 (ipykernel)",
   "language": "python",
   "name": "python3"
  },
  "language_info": {
   "codemirror_mode": {
    "name": "ipython",
    "version": 3
   },
   "file_extension": ".py",
   "mimetype": "text/x-python",
   "name": "python",
   "nbconvert_exporter": "python",
   "pygments_lexer": "ipython3",
   "version": "3.11.7"
  }
 },
 "nbformat": 4,
 "nbformat_minor": 5
}
